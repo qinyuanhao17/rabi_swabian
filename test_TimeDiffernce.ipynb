{
 "cells": [
  {
   "cell_type": "code",
   "execution_count": 2,
   "metadata": {},
   "outputs": [],
   "source": [
    "import os\n",
    "import time\n",
    "#import JSON-RPC Pulse Streamer wrapper class, to use Google-RPC import from pulsestreamer.grpc\n",
    "from pulsestreamer import PulseStreamer, Sequence, OutputState, findPulseStreamers\n",
    "# impofr timetagger \n",
    "os.environ['TIMETAGGER_INSTALL_PATH'] = 'C:\\Program Files\\Swabian Instruments\\Time Tagger'\n",
    "import TimeTagger as tt"
   ]
  },
  {
   "cell_type": "code",
   "execution_count": 3,
   "metadata": {},
   "outputs": [
    {
     "name": "stdout",
     "output_type": "stream",
     "text": [
      "Connect to Pulse Streamer via JSON-RPC.\n",
      "IP / Hostname: 169.254.8.2\n",
      "Pulse Streamer 8/2 firmware: v1.7.2\n",
      "Client software: v1.7.0\n",
      "Serial: 00:26:32:F0:A6:99\n",
      "FPGA ID: 110D5C01BDEA814\n"
     ]
    }
   ],
   "source": [
    "# activate tagger\n",
    "_tagger = tt.createTimeTagger()\n",
    "_tagger.reset()\n",
    "\n",
    "# set trigger level to 1.5V\n",
    "_tagger.setTriggerLevel(1, 1.5)\n",
    "_tagger.sync()\n",
    "\n",
    "# activate pulser\n",
    "devices = findPulseStreamers()\n",
    "# DHCP is activated in factory settings\n",
    "if devices !=[]:\n",
    "    ip = devices[0][0]\n",
    "else:\n",
    "    # if discovery failed try to connect by the default hostname\n",
    "    # IP address of the pulse streamer (default hostname is 'pulsestreamer')\n",
    "    print(\"No Pulse Streamer found\")\n",
    "\n",
    "#connect to the pulse streamer\n",
    "pulser = PulseStreamer(ip)\n",
    "\n",
    "# Print serial number and FPGA-ID\n",
    "print('Serial: ' + pulser.getSerial())\n",
    "print('FPGA ID: ' + pulser.getFPGAID())"
   ]
  },
  {
   "cell_type": "code",
   "execution_count": 4,
   "metadata": {},
   "outputs": [
    {
     "data": {
      "image/png": "[encoded data removed]",
      "text/plain": [
       "<Figure size 640x480 with 10 Axes>"
      ]
     },
     "metadata": {},
     "output_type": "display_data"
    }
   ],
   "source": [
    "'''\n",
    "Set pulser and tagger\n",
    "'''\n",
    "ch_sig = 0\n",
    "ch_gate = 1\n",
    "\n",
    "click_channel = 1\n",
    "start_channel = 2\n",
    "next_channel = -2\n",
    "\n",
    "HIGH=1\n",
    "LOW=0\n",
    "seq_gate=[]\n",
    "seq_sig=[]\n",
    "\n",
    "#define pulse patterns for each channels\n",
    "# simply add more pulses with ', (time, HIGH/LOW)'\n",
    "for i in range(1,11):\n",
    "    seq_gate += [(1500,HIGH),(500,LOW)]\n",
    "    seq_sig += [(100,LOW)] + i*[(50,HIGH),(50,LOW)] + [(2000-100-i*100, LOW)]\n",
    "#create the sequence\n",
    "seq = Sequence()\n",
    "\n",
    "#set digital channels\n",
    "seq.setDigital(ch_gate, seq_gate)\n",
    "seq.setDigital(ch_sig, seq_sig)\n",
    "\n",
    "\n",
    "seq.plot()\n",
    "\n",
    "''''\n",
    "Configer Timetagger\n",
    "'''\n",
    "# self._number_of_gates = number_of_gates\n",
    "bin_width = 10\n",
    "record_length = 1500\n",
    "n_bins = 150\n",
    "n_histograms = 10\n",
    "assert record_length % bin_width == 0, 'Bins number error!'\n",
    "\n",
    "\n",
    "\n",
    "pulsed = tt.TimeDifferences(\n",
    "    tagger=_tagger,\n",
    "    click_channel=click_channel,\n",
    "    start_channel=start_channel,\n",
    "    next_channel=start_channel,\n",
    "    sync_channel=tt.CHANNEL_UNUSED,\n",
    "    binwidth=bin_width * 1000, # In ps\n",
    "    n_bins=int(n_bins),\n",
    "    n_histograms=n_histograms\n",
    ")\n",
    "pulsed.stop()\n",
    "pulsed.clear()\n",
    "pulsed.setMaxCounts(1000000)\n"
   ]
  },
  {
   "cell_type": "code",
   "execution_count": 22,
   "metadata": {},
   "outputs": [],
   "source": [
    "pulsed.setMaxCounts(1000000)\n",
    "pulsed.start()\n",
    "\n",
    "time.sleep(0.5)\n",
    "final = OutputState.ZERO()\n",
    "pulser.stream(seq,-1, final)"
   ]
  },
  {
   "cell_type": "code",
   "execution_count": 416,
   "metadata": {},
   "outputs": [],
   "source": [
    "pulsed.stop()"
   ]
  },
  {
   "cell_type": "code",
   "execution_count": 36,
   "metadata": {},
   "outputs": [
    {
     "name": "stdout",
     "output_type": "stream",
     "text": [
      "1000000\n",
      "2000000\n",
      "3000000\n",
      "4000000\n",
      "5000000\n",
      "6000000\n",
      "7000000\n",
      "8000000\n",
      "9000000\n",
      "10000000\n"
     ]
    },
    {
     "data": {
      "text/plain": [
       "array([      0,       0,       0,       0,       0,       0,       0,\n",
       "             0,       0,       0, 1000000,       0,       0,       0,\n",
       "             0,       0,       0,       0,       0,       0,       0,\n",
       "             0,       0,       0,       0,       0,       0,       0,\n",
       "             0,       0,       0,       0,       0,       0,       0,\n",
       "             0,       0,       0,       0,       0,       0,       0,\n",
       "             0,       0,       0,       0,       0,       0,       0,\n",
       "             0,       0,       0,       0,       0,       0,       0,\n",
       "             0,       0,       0,       0,       0,       0,       0,\n",
       "             0,       0,       0,       0,       0,       0,       0,\n",
       "             0,       0,       0,       0,       0,       0,       0,\n",
       "             0,       0,       0,       0,       0,       0,       0,\n",
       "             0,       0,       0,       0,       0,       0,       0,\n",
       "             0,       0,       0,       0,       0,       0,       0,\n",
       "             0,       0,       0,       0,       0,       0,       0,\n",
       "             0,       0,       0,       0,       0,       0,       0,\n",
       "             0,       0,       0,       0,       0,       0,       0,\n",
       "             0,       0,       0,       0,       0,       0,       0,\n",
       "             0,       0,       0,       0,       0,       0,       0,\n",
       "             0,       0,       0,       0,       0,       0,       0,\n",
       "             0,       0,       0,       0,       0,       0,       0,\n",
       "             0,       0,       0])"
      ]
     },
     "execution_count": 36,
     "metadata": {},
     "output_type": "execute_result"
    }
   ],
   "source": [
    "data = pulsed.getData()\n",
    "index = pulsed.getIndex()\n",
    "for i in range(0,10):\n",
    "    print(sum(data[i]))\n",
    "data[0]"
   ]
  },
  {
   "cell_type": "code",
   "execution_count": 46,
   "metadata": {},
   "outputs": [],
   "source": [
    "if True and 0:\n",
    "    print('yes')\n",
    "\n"
   ]
  },
  {
   "cell_type": "code",
   "execution_count": 39,
   "metadata": {},
   "outputs": [],
   "source": [
    "pulsed.stop()\n",
    "pulser.reset()\n",
    "pulsed.clear()"
   ]
  },
  {
   "cell_type": "code",
   "execution_count": 346,
   "metadata": {},
   "outputs": [
    {
     "name": "stdout",
     "output_type": "stream",
     "text": [
      "True\n"
     ]
    }
   ],
   "source": [
    "print(pulsed.isRunning())"
   ]
  },
  {
   "cell_type": "code",
   "execution_count": 151,
   "metadata": {},
   "outputs": [
    {
     "name": "stdout",
     "output_type": "stream",
     "text": [
      "4718770\n",
      "9437540\n",
      "14156310\n",
      "18875080\n",
      "23593850\n",
      "28312620\n",
      "33031390\n",
      "37750160\n",
      "42468930\n",
      "47187690\n"
     ]
    }
   ],
   "source": [
    "while True:\n",
    "    if pulsed.getHistogramIndex() == 9:\n",
    "        _data = pulsed.getData()\n",
    "        for i in range(0,10):\n",
    "            print(sum(_data[i]))\n",
    "        break\n"
   ]
  },
  {
   "cell_type": "code",
   "execution_count": 4,
   "metadata": {},
   "outputs": [],
   "source": [
    "while True:\n",
    " if pulsed.getHistogramIndex() == 9:\n",
    "    pulsed.stop()\n",
    "    break\n",
    "data = pulsed.getData()\n",
    "index = pulsed.getIndex()"
   ]
  },
  {
   "cell_type": "code",
   "execution_count": 9,
   "metadata": {},
   "outputs": [
    {
     "name": "stdout",
     "output_type": "stream",
     "text": [
      "429216\n",
      "858432\n",
      "1287648\n",
      "1716864\n",
      "2146080\n",
      "2575296\n",
      "3004512\n",
      "3433728\n",
      "3862944\n",
      "4292152\n"
     ]
    },
    {
     "data": {
      "text/plain": [
       "array([     0,      0,      0,      0,      0,      0,      0,      0,\n",
       "            0,      0, 429216,      0,      0,      0,      0,      0,\n",
       "            0,      0,      0,      0,      0,      0,      0,      0,\n",
       "            0,      0,      0,      0,      0,      0,      0,      0,\n",
       "            0,      0,      0,      0,      0,      0,      0,      0,\n",
       "            0,      0,      0,      0,      0,      0,      0,      0,\n",
       "            0,      0,      0,      0,      0,      0,      0,      0,\n",
       "            0,      0,      0,      0,      0,      0,      0,      0,\n",
       "            0,      0,      0,      0,      0,      0,      0,      0,\n",
       "            0,      0,      0,      0,      0,      0,      0,      0,\n",
       "            0,      0,      0,      0,      0,      0,      0,      0,\n",
       "            0,      0,      0,      0,      0,      0,      0,      0,\n",
       "            0,      0,      0,      0,      0,      0,      0,      0,\n",
       "            0,      0,      0,      0,      0,      0,      0,      0,\n",
       "            0,      0,      0,      0,      0,      0,      0,      0,\n",
       "            0,      0,      0,      0,      0,      0,      0,      0,\n",
       "            0,      0,      0,      0,      0,      0,      0,      0,\n",
       "            0,      0,      0,      0,      0,      0,      0,      0,\n",
       "            0,      0,      0,      0,      0,      0])"
      ]
     },
     "execution_count": 9,
     "metadata": {},
     "output_type": "execute_result"
    }
   ],
   "source": [
    "for i in range(0,10):\n",
    "    print(sum(data[i]))\n",
    "data[0]"
   ]
  },
  {
   "cell_type": "code",
   "execution_count": 47,
   "metadata": {},
   "outputs": [
    {
     "data": {
      "text/plain": [
       "True"
      ]
     },
     "execution_count": 47,
     "metadata": {},
     "output_type": "execute_result"
    }
   ],
   "source": [
    "pulsed.clear()\n",
    "tt.freeTimeTagger(_tagger)"
   ]
  }
 ],
 "metadata": {
  "kernelspec": {
   "display_name": "Python 3",
   "language": "python",
   "name": "python3"
  },
  "language_info": {
   "codemirror_mode": {
    "name": "ipython",
    "version": 3
   },
   "file_extension": ".py",
   "mimetype": "text/x-python",
   "name": "python",
   "nbconvert_exporter": "python",
   "pygments_lexer": "ipython3",
   "version": "3.9.15"
  },
  "orig_nbformat": 4
 },
 "nbformat": 4,
 "nbformat_minor": 2
}
